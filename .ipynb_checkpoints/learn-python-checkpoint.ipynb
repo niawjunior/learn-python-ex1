{
 "cells": [
  {
   "cell_type": "code",
   "execution_count": 0,
   "metadata": {},
   "outputs": [],
   "source": [
    "#slice\n",
    "number = [0, 1, 2, 3, 4, 5, 6, 7, 8, 9]\n",
    "\n",
    "#ex1\n",
    "x = slice(0,5)\n",
    "print(number[x])\n",
    "\n",
    "#ex2\n",
    "print(number[0:5])\n",
    "\n",
    "#start,end,step\n",
    "print(number[0::2])\n",
    "\n",
    "#slice and reverse\n",
    "print(number[5:0:-1])\n"
   ]
  },
  {
   "cell_type": "code",
   "execution_count": 0,
   "metadata": {},
   "outputs": [],
   "source": [
    "\n",
    "\n",
    "\n",
    "\n"
   ]
  }
 ],
 "metadata": {
  "file_extension": ".py",
  "kernelspec": {
   "display_name": "Python 3",
   "language": "python",
   "name": "python3"
  },
  "language_info": {
   "codemirror_mode": {
    "name": "ipython",
    "version": 3
   },
   "file_extension": ".py",
   "mimetype": "text/x-python",
   "name": "python",
   "nbconvert_exporter": "python",
   "pygments_lexer": "ipython3",
   "version": "3.7.3"
  },
  "mimetype": "text/x-python",
  "name": "python",
  "npconvert_exporter": "python",
  "pygments_lexer": "ipython3",
  "version": 3
 },
 "nbformat": 4,
 "nbformat_minor": 2
}
