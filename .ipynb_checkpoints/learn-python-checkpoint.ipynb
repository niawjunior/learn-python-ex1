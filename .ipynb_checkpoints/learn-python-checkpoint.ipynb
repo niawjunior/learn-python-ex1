{
 "cells": [
  {
   "cell_type": "code",
   "execution_count": 1,
   "metadata": {},
   "outputs": [
    {
     "name": "stdout",
     "output_type": "stream",
     "text": [
      "[0, 1, 2, 3, 4]\n",
      "[0, 1, 2, 3, 4]\n",
      "[0, 2, 4, 6, 8]\n",
      "[5, 4, 3, 2, 1]\n"
     ]
    }
   ],
   "source": [
    "import io, os, sys, types\n",
    "from IPython import get_ipython\n",
    "from nbformat import read\n",
    "from IPython.core.interactiveshell import InteractiveShell\n",
    "\n",
    "#slice\n",
    "number = [0, 1, 2, 3, 4, 5, 6, 7, 8, 9]\n",
    "\n",
    "#ex1\n",
    "x = slice(0,5)\n",
    "print(number[x])\n",
    "\n",
    "#ex2\n",
    "print(number[0:5])\n",
    "\n",
    "#start,end,step\n",
    "print(number[0::2])\n",
    "\n",
    "#slice and reverse\n",
    "print(number[5:0:-1])"
   ]
  },
  {
   "cell_type": "code",
   "execution_count": 2,
   "metadata": {},
   "outputs": [
    {
     "name": "stdout",
     "output_type": "stream",
     "text": [
      "0\n",
      "1\n",
      "2\n",
      "3\n",
      "4\n",
      "5\n",
      "6\n",
      "7\n",
      "8\n",
      "9\n"
     ]
    }
   ],
   "source": [
    "# while loop\n",
    "i = 0\n",
    "while i < len(number):\n",
    "    print(number[i])\n",
    "    i += 1"
   ]
  },
  {
   "cell_type": "code",
   "execution_count": 3,
   "metadata": {},
   "outputs": [
    {
     "name": "stdout",
     "output_type": "stream",
     "text": [
      "0\n",
      "1\n",
      "2\n",
      "3\n",
      "4\n",
      "5\n",
      "6\n",
      "7\n",
      "8\n",
      "9\n"
     ]
    }
   ],
   "source": [
    "# for loop\n",
    "i = 0\n",
    "for i in number:\n",
    "    print(number[i])"
   ]
  },
  {
   "cell_type": "code",
   "execution_count": 4,
   "metadata": {},
   "outputs": [
    {
     "name": "stdout",
     "output_type": "stream",
     "text": [
      "0\n",
      "1\n"
     ]
    }
   ],
   "source": [
    "# break\n",
    "i = 0\n",
    "for i in number:\n",
    "    if i == 2:\n",
    "        break\n",
    "    print(i)\n",
    "    i += 1"
   ]
  },
  {
   "cell_type": "code",
   "execution_count": 5,
   "metadata": {},
   "outputs": [
    {
     "name": "stdout",
     "output_type": "stream",
     "text": [
      "1\n",
      "3\n",
      "4\n",
      "5\n"
     ]
    }
   ],
   "source": [
    "#continue\n",
    "i = 0\n",
    "while i < 5:\n",
    "    i += 1\n",
    "    if i == 2:\n",
    "        continue\n",
    "    print(i)"
   ]
  },
  {
   "cell_type": "code",
   "execution_count": 6,
   "metadata": {},
   "outputs": [
    {
     "name": "stdout",
     "output_type": "stream",
     "text": [
      "(3, 18)\n"
     ]
    }
   ],
   "source": [
    "# function\n",
    "def addNumber(n1 ,n2, *n):\n",
    "    s = sum(n)\n",
    "    return (n1 + n2), s\n",
    "\n",
    "print(addNumber(1, 2, 3, 4, 5, 6))"
   ]
  },
  {
   "cell_type": "code",
   "execution_count": 7,
   "metadata": {},
   "outputs": [
    {
     "name": "stdout",
     "output_type": "stream",
     "text": [
      "name:  Honda price:  575000\n"
     ]
    }
   ],
   "source": [
    "#oop\n",
    "class Car:\n",
    "    def __init__(self, price):\n",
    "        self.price = price\n",
    "\n",
    "    def tax(self, tax):\n",
    "        self.price += tax\n",
    "        \n",
    "    def name(self, name):\n",
    "        self.name = name\n",
    "\n",
    "car = Car(550000)\n",
    "car.tax(25000)\n",
    "car.name('Honda')\n",
    "print('name: ', car.name, 'price: ', car.price)"
   ]
  },
  {
   "cell_type": "code",
   "execution_count": 8,
   "metadata": {},
   "outputs": [
    {
     "name": "stdout",
     "output_type": "stream",
     "text": [
      "{'name': 'john', 'age': 24, 'year': 1994}\n",
      "name:  john age:  24\n",
      "name:  john age:  24\n",
      "{'name': 'Lee', 'age': 24, 'year': 1994, 'Surname': 'Leo'}\n",
      "{'age': 24, 'year': 1994, 'Surname': 'Leo'}\n"
     ]
    }
   ],
   "source": [
    "#dictionary\n",
    "D = {'name': 'john', 'age': 24, 'year': 1994}\n",
    "print(D)\n",
    "print('name: ', D['name'], 'age: ', D['age'])\n",
    "print('name: ', D.get('name'), 'age: ', D.get('age'))\n",
    "\n",
    "D.update({'name': 'Lee'})\n",
    "D['Surname'] = 'Leo'\n",
    "\n",
    "print(D)\n",
    "\n",
    "D.pop('name')\n",
    "print(D)"
   ]
  },
  {
   "cell_type": "code",
   "execution_count": 9,
   "metadata": {},
   "outputs": [
    {
     "name": "stdout",
     "output_type": "stream",
     "text": [
      "220\n"
     ]
    }
   ],
   "source": [
    "#encapsulation\n",
    "class Car:\n",
    "    def __init__(self, speed, color):\n",
    "        self.speed  = speed\n",
    "        self.color = color\n",
    "\n",
    "    def set_speed(self, value):\n",
    "        self.speed = value\n",
    "\n",
    "    def get_speed(self):\n",
    "        return self.speed\n",
    "\n",
    "ford = Car(200, 'red')\n",
    "honda = Car(250, 'blue')\n",
    "audi = Car(300, 'black')\n",
    "\n",
    "ford.set_speed(220)\n",
    "print(ford.get_speed())"
   ]
  },
  {
   "cell_type": "code",
   "execution_count": 10,
   "metadata": {},
   "outputs": [
    {
     "name": "stdout",
     "output_type": "stream",
     "text": [
      "10\n",
      "20\n",
      "30\n",
      "private\n",
      "public\n"
     ]
    }
   ],
   "source": [
    "#private variable\n",
    "class Hello:\n",
    "    def __init__(self, name):\n",
    "        self.a = 10\n",
    "        self._b = 20\n",
    "        self.__c = 30\n",
    "\n",
    "    def get_speed(self):\n",
    "        return self.__c\n",
    "\n",
    "    def public_method(self):\n",
    "        self.__c\n",
    "        print(self.__private_method())\n",
    "        return 'public'\n",
    "\n",
    "    def __private_method(self):\n",
    "        return 'private'\n",
    "\n",
    "hello = Hello('name')\n",
    "print(hello.a)\n",
    "print(hello._b)\n",
    "print(hello.get_speed())\n",
    "print(hello.public_method())"
   ]
  },
  {
   "cell_type": "code",
   "execution_count": 11,
   "metadata": {},
   "outputs": [
    {
     "name": "stdout",
     "output_type": "stream",
     "text": [
      "2000\n",
      "1000.0\n"
     ]
    }
   ],
   "source": [
    "#inheritance\n",
    "class Polygon:\n",
    "    __width: None\n",
    "    __height: None\n",
    "\n",
    "    def set_value(self, width, height):\n",
    "        self.__width = width\n",
    "        self.__height = height\n",
    "\n",
    "    def get_width(self):\n",
    "        return self.__width\n",
    "    \n",
    "    def get_height(self):\n",
    "        return self.__height\n",
    "\n",
    "class Rectangle(Polygon):\n",
    "    def area(self):\n",
    "        return self.get_width() * self.get_height()\n",
    "\n",
    "class Triangle(Polygon):\n",
    "    def area(self):\n",
    "        return self.get_width() * self.get_height() / 2\n",
    "\n",
    "rec = Rectangle()\n",
    "tri = Triangle()\n",
    "\n",
    "rec.set_value(50, 40)\n",
    "tri.set_value(50, 40)\n",
    "\n",
    "print(rec.area())\n",
    "print(tri.area())"
   ]
  },
  {
   "cell_type": "code",
   "execution_count": 12,
   "metadata": {},
   "outputs": [
    {
     "name": "stdout",
     "output_type": "stream",
     "text": [
      "1 + 2 =  3\n"
     ]
    }
   ],
   "source": [
    "#module\n",
    "from module import function\n",
    "print(\"1 + 2 = \", function.add(1,2))"
   ]
  },
  {
   "cell_type": "code",
   "execution_count": 13,
   "metadata": {},
   "outputs": [
    {
     "name": "stdout",
     "output_type": "stream",
     "text": [
      "child2 init\n",
      "child init is child\n",
      "parent2 init is parent2\n",
      "parent init is parent\n",
      "Order =  (<class '__main__.Child2'>, <class '__main__.Parent2'>, <class '__main__.Child'>, <class '__main__.Parent'>, <class 'object'>)\n"
     ]
    }
   ],
   "source": [
    "#super\n",
    "class Parent:\n",
    "    def __init__(self, name):\n",
    "        print(\"parent init\", name)\n",
    "class Parent2:\n",
    "\n",
    "    def __init__(self, name):\n",
    "        print(\"parent2 init\", name)\n",
    "class Child:\n",
    "\n",
    "    def __init__(self, name):\n",
    "        print(\"child init\", name) \n",
    "\n",
    "class Child2(Parent2, Child, Parent):\n",
    "    def __init__(self):\n",
    "        print(\"child2 init\")\n",
    "        Child.__init__(self, \"is child\")\n",
    "        super().__init__('is parent2')\n",
    "        Parent.__init__(self, \"is parent\")\n",
    "\n",
    "child = Child2()\n",
    "print('Order = ', Child2.__mro__)"
   ]
  },
  {
   "cell_type": "code",
   "execution_count": 14,
   "metadata": {},
   "outputs": [
    {
     "name": "stdout",
     "output_type": "stream",
     "text": [
      "name: niaw age: 25 salary + bonus = 610000\n"
     ]
    }
   ],
   "source": [
    "#composition\n",
    "class Salary:\n",
    "    def __init__(self, pay, bonus):\n",
    "        self.pay = pay\n",
    "        self.bonus = bonus\n",
    "\n",
    "    def annual_salary(self):\n",
    "        return (self.pay * 12) + self.bonus\n",
    "\n",
    "class Employee:\n",
    "    def __init__(self, name, age, pay, bonus):\n",
    "        self.name = name\n",
    "        self.age = age\n",
    "        self.obj_salary = Salary(pay, bonus)\n",
    "    \n",
    "    def total_salary(self):\n",
    "        return \"name: {} age: {} salary + bonus = {}\".format(self.name, self.age, self.obj_salary.annual_salary())\n",
    "\n",
    "emp = Employee('niaw', '25', 50000, 10000)\n",
    "print(emp.total_salary())\n"
   ]
  },
  {
   "cell_type": "code",
   "execution_count": 15,
   "metadata": {},
   "outputs": [
    {
     "name": "stdout",
     "output_type": "stream",
     "text": [
      "name: niaw age: 25 salary + bonus = 610000\n"
     ]
    }
   ],
   "source": [
    "#aggregation\n",
    "class Salary:\n",
    "    def __init__(self, pay, bonus):\n",
    "        self.pay = pay\n",
    "        self.bonus = bonus\n",
    "\n",
    "    def annual_salary(self):\n",
    "        return (self.pay * 12) + self.bonus\n",
    "\n",
    "class Employee:\n",
    "    def __init__(self, name, age, salary):\n",
    "        self.name = name\n",
    "        self.age = age\n",
    "        self.obj_salary = salary\n",
    "    \n",
    "    def total_salary(self):\n",
    "        return \"name: {} age: {} salary + bonus = {}\".format(self.name, self.age, self.obj_salary.annual_salary())\n",
    "\n",
    "salary = Salary(50000, 10000)\n",
    "emp = Employee('niaw', '25', salary)\n",
    "print(emp.total_salary())\n"
   ]
  },
  {
   "cell_type": "code",
   "execution_count": 16,
   "metadata": {},
   "outputs": [
    {
     "name": "stdout",
     "output_type": "stream",
     "text": [
      "4\n",
      "28\n"
     ]
    }
   ],
   "source": [
    "#day of month\n",
    "\n",
    "def dayOfMonth(day, year):\n",
    "    def feb(year):\n",
    "        k = year - 543\n",
    "        print(k % 400)\n",
    "        if k % 4 == 0  % 100 != 0:\n",
    "            return 29\n",
    "        else:\n",
    "            return 28\n",
    "    switcher = {\n",
    "        1: 31,\n",
    "        2: feb(year),\n",
    "        3: 31,\n",
    "        4: 30,\n",
    "        5: 31,\n",
    "        6: 30,\n",
    "        7: 31,\n",
    "        8: 31,\n",
    "        9: 30,\n",
    "        10: 31,\n",
    "        11: 30,\n",
    "        12: 31\n",
    "    }\n",
    "    result = switcher.get(day)\n",
    "    return result\n",
    "\n",
    "print(dayOfMonth(2, 2547))\n",
    "\n"
   ]
  },
  {
   "cell_type": "code",
   "execution_count": 1,
   "metadata": {},
   "outputs": [
    {
     "name": "stdout",
     "output_type": "stream",
     "text": [
      "Number1: 1\n",
      "Number2: 1\n"
     ]
    }
   ],
   "source": [
    "#python exception\n",
    "result = None\n",
    "a = float(input('Number1: '))\n",
    "b = float(input('Number2: '))\n",
    "\n",
    "try:\n",
    "    result = a / b\n",
    "except Exception as e:\n",
    "    print('Error = ', type(e))\n",
    "print('Result = ', result)\n",
    "pritn('End')\n"
   ]
  },
  {
   "cell_type": "code",
   "execution_count": 1,
   "metadata": {},
   "outputs": [],
   "source": []
  }
 ],
 "metadata": {
  "file_extension": ".py",
  "kernelspec": {
   "display_name": "Python 3",
   "language": "python",
   "name": "python3"
  },
  "language_info": {
   "codemirror_mode": {
    "name": "ipython",
    "version": 3
   },
   "file_extension": ".py",
   "mimetype": "text/x-python",
   "name": "python",
   "nbconvert_exporter": "python",
   "pygments_lexer": "ipython3",
   "version": "3.7.3"
  },
  "mimetype": "text/x-python",
  "name": "python",
  "npconvert_exporter": "python",
  "pygments_lexer": "ipython3",
  "version": 3
 },
 "nbformat": 4,
 "nbformat_minor": 2
}
